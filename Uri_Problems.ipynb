{
  "nbformat": 4,
  "nbformat_minor": 0,
  "metadata": {
    "colab": {
      "name": "Uri-Problems.ipynb",
      "provenance": [],
      "collapsed_sections": [],
      "authorship_tag": "ABX9TyOzseDOsiwivhOXQL2a6b9J",
      "include_colab_link": true
    },
    "kernelspec": {
      "name": "python3",
      "display_name": "Python 3"
    }
  },
  "cells": [
    {
      "cell_type": "markdown",
      "metadata": {
        "id": "view-in-github",
        "colab_type": "text"
      },
      "source": [
        "<a href=\"https://colab.research.google.com/github/Punxoxo/uri-exercisesPY/blob/main/Uri_Problems.ipynb\" target=\"_parent\"><img src=\"https://colab.research.google.com/assets/colab-badge.svg\" alt=\"Open In Colab\"/></a>"
      ]
    },
    {
      "cell_type": "markdown",
      "metadata": {
        "id": "W8qp7Jh4GPJX"
      },
      "source": [
        "Problem #1000\n"
      ]
    },
    {
      "cell_type": "code",
      "metadata": {
        "id": "JCDSJaH7GWgp",
        "colab": {
          "base_uri": "https://localhost:8080/",
          "height": 34
        },
        "outputId": "324063c3-f120-4b9b-a33a-9b38b39abd5d"
      },
      "source": [
        "print(\"Hello World!\")"
      ],
      "execution_count": null,
      "outputs": [
        {
          "output_type": "stream",
          "text": [
            "Hello World!\n"
          ],
          "name": "stdout"
        }
      ]
    },
    {
      "cell_type": "markdown",
      "metadata": {
        "id": "EvYwtPUdGxIQ"
      },
      "source": [
        "Problem #1001\n"
      ]
    },
    {
      "cell_type": "code",
      "metadata": {
        "id": "JwgMn0CNG0HK",
        "colab": {
          "base_uri": "https://localhost:8080/",
          "height": 68
        },
        "outputId": "2d83538c-d91d-438c-f6ea-4272f52e938e"
      },
      "source": [
        "A = int(input())\n",
        "B = int(input())\n",
        "X = 0\n",
        "X = A + B\n",
        "print(\"X =\",X)"
      ],
      "execution_count": null,
      "outputs": [
        {
          "output_type": "stream",
          "text": [
            "10\n",
            "9\n",
            "X = 19\n"
          ],
          "name": "stdout"
        }
      ]
    },
    {
      "cell_type": "markdown",
      "metadata": {
        "id": "hFRg5NpAHaM2"
      },
      "source": [
        "Problem #1002\n"
      ]
    },
    {
      "cell_type": "code",
      "metadata": {
        "id": "wiTLPUDLHbwR",
        "colab": {
          "base_uri": "https://localhost:8080/",
          "height": 51
        },
        "outputId": "261080d6-df6d-4eb5-f6dc-c554bf755336"
      },
      "source": [
        "n = 3.14159\n",
        "R = float(input())\n",
        "A = n*(R*R)\n",
        "print('A={:.4f}'.format(A))"
      ],
      "execution_count": null,
      "outputs": [
        {
          "output_type": "stream",
          "text": [
            "2\n",
            "A=12.5664\n"
          ],
          "name": "stdout"
        }
      ]
    },
    {
      "cell_type": "markdown",
      "metadata": {
        "id": "41HsFLsEIguq"
      },
      "source": [
        "Problem #1003\n"
      ]
    },
    {
      "cell_type": "code",
      "metadata": {
        "id": "AHD8MHolIi3n",
        "colab": {
          "base_uri": "https://localhost:8080/",
          "height": 68
        },
        "outputId": "afd234ff-b734-411b-8b8e-f93a93a99b9d"
      },
      "source": [
        "A = int(input())\n",
        "B = int(input())\n",
        "SOMA = A + B\n",
        "print(\"SOMA =\",SOMA)"
      ],
      "execution_count": null,
      "outputs": [
        {
          "output_type": "stream",
          "text": [
            "30\n",
            "10\n",
            "SOMA = 40\n"
          ],
          "name": "stdout"
        }
      ]
    },
    {
      "cell_type": "markdown",
      "metadata": {
        "id": "Z3NSMmt4I2SI"
      },
      "source": [
        "Problem #1004"
      ]
    },
    {
      "cell_type": "code",
      "metadata": {
        "id": "apkEC25NI-uY",
        "colab": {
          "base_uri": "https://localhost:8080/",
          "height": 68
        },
        "outputId": "61daf61f-2743-4a2d-c96f-94a13639ef3b"
      },
      "source": [
        "a = int(input())\n",
        "b = int(input())\n",
        "PROD = a*b\n",
        "print(\"PROD =\",PROD)"
      ],
      "execution_count": null,
      "outputs": [
        {
          "output_type": "stream",
          "text": [
            "3\n",
            "9\n",
            "PROD = 27\n"
          ],
          "name": "stdout"
        }
      ]
    },
    {
      "cell_type": "markdown",
      "metadata": {
        "id": "9O6pWqnnJSeF"
      },
      "source": [
        "Problem #1005"
      ]
    },
    {
      "cell_type": "code",
      "metadata": {
        "id": "CHn8EbVkJWD7",
        "colab": {
          "base_uri": "https://localhost:8080/",
          "height": 68
        },
        "outputId": "7493fef4-85c1-45a8-e4ed-e6f4ef0bff6b"
      },
      "source": [
        "# W = 3.5\n",
        "A = float(input())\n",
        "# W = 7.5\n",
        "B = float(input())\n",
        "MEDIA = ((A*3.5)+(B*7.5))/(3.5+7.5)\n",
        "print(\"MEDIA = {:.5f}\".format(MEDIA))"
      ],
      "execution_count": null,
      "outputs": [
        {
          "output_type": "stream",
          "text": [
            "5\n",
            "7.1\n",
            "MEDIA = 6.43182\n"
          ],
          "name": "stdout"
        }
      ]
    },
    {
      "cell_type": "markdown",
      "metadata": {
        "id": "KzzOx-EgK4wm"
      },
      "source": [
        "Problem #1006\n"
      ]
    },
    {
      "cell_type": "code",
      "metadata": {
        "id": "8GLHgWDOK6UV",
        "colab": {
          "base_uri": "https://localhost:8080/",
          "height": 85
        },
        "outputId": "df57026d-5d3b-47fa-aed6-ed18b37f5e51"
      },
      "source": [
        "# A = 2 // B = 3 // C = 5\n",
        "A = float(input())\n",
        "B = float(input())\n",
        "C = float(input())\n",
        "MEDIA = ((A*2) + (B*3) + (C*5))/(2+3+5)\n",
        "print(\"MEDIA = {:.1f}\".format(MEDIA))"
      ],
      "execution_count": null,
      "outputs": [
        {
          "output_type": "stream",
          "text": [
            "5\n",
            "6\n",
            "7\n",
            "MEDIA = 6.3\n"
          ],
          "name": "stdout"
        }
      ]
    },
    {
      "cell_type": "markdown",
      "metadata": {
        "id": "pUeT1cgJLbNH"
      },
      "source": [
        "Problem #1007"
      ]
    },
    {
      "cell_type": "code",
      "metadata": {
        "id": "r32I6RybLfZe",
        "colab": {
          "base_uri": "https://localhost:8080/",
          "height": 102
        },
        "outputId": "7d0e1731-2621-4335-ba68-91a86717ad6c"
      },
      "source": [
        "A = int(input())\n",
        "B = int(input())\n",
        "C = int(input())\n",
        "D = int(input())\n",
        "DIFERENCA = (A*B) - (C*D)\n",
        "print(\"DIFERENCA =\",DIFERENCA)"
      ],
      "execution_count": null,
      "outputs": [
        {
          "output_type": "stream",
          "text": [
            "5\n",
            "6\n",
            "7\n",
            "8\n",
            "DIFERENCA = -26\n"
          ],
          "name": "stdout"
        }
      ]
    },
    {
      "cell_type": "markdown",
      "metadata": {
        "id": "uI6lT5dvL4eb"
      },
      "source": [
        "Problem #1008"
      ]
    },
    {
      "cell_type": "code",
      "metadata": {
        "id": "N_BMRa8-L5yd",
        "colab": {
          "base_uri": "https://localhost:8080/",
          "height": 102
        },
        "outputId": "052be78b-5da8-490c-aa9f-f3bc06f4d781"
      },
      "source": [
        "num = int(input())\n",
        "work = int(input())\n",
        "amoun = float(input())\n",
        "total = work*amoun\n",
        "print(\"NUMBER =\",num)\n",
        "print(\"SALARY = U$ {:.2f}\".format(total))"
      ],
      "execution_count": null,
      "outputs": [
        {
          "output_type": "stream",
          "text": [
            "25\n",
            "100\n",
            "5.50\n",
            "NUMBER = 25\n",
            "SALARY = U$ 550.00\n"
          ],
          "name": "stdout"
        }
      ]
    },
    {
      "cell_type": "markdown",
      "metadata": {
        "id": "KWQ9fH0-NsGN"
      },
      "source": [
        "Problem #1009"
      ]
    },
    {
      "cell_type": "code",
      "metadata": {
        "id": "t6_ptVC5NuNR",
        "colab": {
          "base_uri": "https://localhost:8080/",
          "height": 85
        },
        "outputId": "5d1e4552-47e4-41fd-dc61-31c31578c526"
      },
      "source": [
        "name = input()\n",
        "sal = float(input())\n",
        "sold = float(input())\n",
        "total = sal + ((sold*15)/100)\n",
        "print(\"TOTAL = R$ {:.2f}\".format(total))"
      ],
      "execution_count": null,
      "outputs": [
        {
          "output_type": "stream",
          "text": [
            "JOAO\n",
            "500\n",
            "1230.30\n",
            "TOTAL = 684.54\n"
          ],
          "name": "stdout"
        }
      ]
    },
    {
      "cell_type": "markdown",
      "metadata": {
        "id": "YbW4P44zOy0t"
      },
      "source": [
        "Problem #1010"
      ]
    },
    {
      "cell_type": "code",
      "metadata": {
        "id": "gzg3ErjtO0W1",
        "colab": {
          "base_uri": "https://localhost:8080/",
          "height": 68
        },
        "outputId": "30c99a2f-37f5-463a-de64-9c6f8ce9f920"
      },
      "source": [
        "total = [0,0,0,0]\n",
        "for i in range(2):\n",
        "  code, unit, price = [float(n) for n in input().split()]\n",
        "  total[i] = price\n",
        "  total[i+2] = unit\n",
        "resu = total[0]*total[2]+total[1]*total[3]\n",
        "print(\"VALOR A PAGAR: R$ {:.2f}\".format(resu))"
      ],
      "execution_count": null,
      "outputs": [
        {
          "output_type": "stream",
          "text": [
            "13 2 15.30\n",
            "161 4 5.20\n",
            "VALOR A PAGAR: R$ 51.40\n"
          ],
          "name": "stdout"
        }
      ]
    },
    {
      "cell_type": "markdown",
      "metadata": {
        "id": "P6aFM1hQT82P"
      },
      "source": [
        "Problem #1011"
      ]
    },
    {
      "cell_type": "code",
      "metadata": {
        "id": "ksDNn14jT-8a",
        "colab": {
          "base_uri": "https://localhost:8080/",
          "height": 51
        },
        "outputId": "0f45945b-bb8e-4de6-b4ee-407cd68f52e2"
      },
      "source": [
        "R = float(input())\n",
        "pi = 3.14159\n",
        "VOLUME = (4/3.0)*pi*(R*R*R)\n",
        "print(\"VOLUME = {:.3f}\".format(VOLUME))"
      ],
      "execution_count": null,
      "outputs": [
        {
          "output_type": "stream",
          "text": [
            "3\n",
            "VOLUME = 113.097\n"
          ],
          "name": "stdout"
        }
      ]
    },
    {
      "cell_type": "markdown",
      "metadata": {
        "id": "V238DObXUfX9"
      },
      "source": [
        "Problem #1012"
      ]
    },
    {
      "cell_type": "code",
      "metadata": {
        "id": "EImchXVpUhFS",
        "colab": {
          "base_uri": "https://localhost:8080/",
          "height": 119
        },
        "outputId": "ee63798e-70f5-4bcd-caed-482aadcef992"
      },
      "source": [
        "A,B,C = [float(x) for x in input().split()]\n",
        "pi = 3.14159\n",
        "Atri = (A*C)/2\n",
        "Acir = pi*(C*C)\n",
        "Atrap = ((A+B)*C)/2\n",
        "Asqua = B*B\n",
        "Arec = A*B\n",
        "print(\"TRIANGULO: {:.3f}\".format(Atri))\n",
        "print(\"CIRCULO: {:.3f}\".format(Acir))\n",
        "print(\"TRAPEZIO: {:.3f}\".format(Atrap))\n",
        "print(\"QUADRADO: {:.3f}\".format(Asqua))\n",
        "print(\"RETANGULO: {:.3f}\".format(Arec))"
      ],
      "execution_count": null,
      "outputs": [
        {
          "output_type": "stream",
          "text": [
            "3 4 5.2\n",
            "TRIANGULO: 7.800\n",
            "CIRCULO: 84.949\n",
            "TRAPEZIO: 18.200\n",
            "QUADRADO: 16.000\n",
            "RETANGULO: 12.000\n"
          ],
          "name": "stdout"
        }
      ]
    },
    {
      "cell_type": "markdown",
      "metadata": {
        "id": "CqVDQkeRWSAG"
      },
      "source": [
        "Problem #1013"
      ]
    },
    {
      "cell_type": "code",
      "metadata": {
        "id": "4vD2zAMiWToF",
        "colab": {
          "base_uri": "https://localhost:8080/",
          "height": 51
        },
        "outputId": "3024477d-d57f-4e84-e75c-ca2e69d2b3f1"
      },
      "source": [
        "a,b,c = [int(x) for x in input().split()]\n",
        "maior = ((a+b+abs(a-b)))/2\n",
        "MaiorAB = ((maior+c+abs(maior-c)))/2\n",
        "print(\"{:.0f} eh o maior\".format(MaiorAB))"
      ],
      "execution_count": null,
      "outputs": [
        {
          "output_type": "stream",
          "text": [
            "217 14 6\n",
            "217 eh o maior\n"
          ],
          "name": "stdout"
        }
      ]
    },
    {
      "cell_type": "markdown",
      "metadata": {
        "id": "-wIwZ4ZtX52d"
      },
      "source": [
        "Problem #1014"
      ]
    },
    {
      "cell_type": "code",
      "metadata": {
        "id": "ohVqY3ebX8QQ",
        "colab": {
          "base_uri": "https://localhost:8080/",
          "height": 68
        },
        "outputId": "0e888995-0351-42b1-a825-d7ed6842808c"
      },
      "source": [
        "X = int(input())\n",
        "Y = float(input())\n",
        "m = X/Y\n",
        "print(\"{:.3f} km/l\".format(m))"
      ],
      "execution_count": null,
      "outputs": [
        {
          "output_type": "stream",
          "text": [
            "500\n",
            "35\n",
            "14.286 km/l\n"
          ],
          "name": "stdout"
        }
      ]
    },
    {
      "cell_type": "markdown",
      "metadata": {
        "id": "AQiEQtmHjwX1"
      },
      "source": [
        "Problem #1015"
      ]
    },
    {
      "cell_type": "code",
      "metadata": {
        "id": "iyGLsUiRjyCz",
        "colab": {
          "base_uri": "https://localhost:8080/",
          "height": 68
        },
        "outputId": "1caceb4b-eaf6-4eff-d30e-9749b3cd1e85"
      },
      "source": [
        "import math\n",
        "x1,y1 = [float(n) for n in input().split()]\n",
        "x2,y2 = [float(k) for k in input().split()]\n",
        "dis = pow(x2-x1,2)+pow(y2-y1,2)\n",
        "resu = math.sqrt(dis)\n",
        "print(\"{:.4f}\".format(resu))"
      ],
      "execution_count": null,
      "outputs": [
        {
          "output_type": "stream",
          "text": [
            "2.5 -0.4\n",
            "-12.2 7\n",
            "16.4575\n"
          ],
          "name": "stdout"
        }
      ]
    },
    {
      "cell_type": "markdown",
      "metadata": {
        "id": "C7qVdvbOoxa-"
      },
      "source": [
        "Problem #1016"
      ]
    },
    {
      "cell_type": "code",
      "metadata": {
        "id": "PuDgUt4to1k8",
        "colab": {
          "base_uri": "https://localhost:8080/",
          "height": 51
        },
        "outputId": "2928b512-75b9-46b8-c36f-4ccd3007a1b9"
      },
      "source": [
        "x = int(input())\n",
        "resu = x*2\n",
        "print(resu,\"minutos\")"
      ],
      "execution_count": null,
      "outputs": [
        {
          "output_type": "stream",
          "text": [
            "30\n",
            "60 minutos\n"
          ],
          "name": "stdout"
        }
      ]
    },
    {
      "cell_type": "markdown",
      "metadata": {
        "id": "PiRlHW0berV9"
      },
      "source": [
        "Problem #1017"
      ]
    },
    {
      "cell_type": "code",
      "metadata": {
        "id": "ZMIku_5Ses_C",
        "colab": {
          "base_uri": "https://localhost:8080/",
          "height": 68
        },
        "outputId": "7b1a7945-e514-44b4-8636-587f1771fdba"
      },
      "source": [
        "time = int(input())\n",
        "speed = int(input())\n",
        "liters = time*speed/12\n",
        "print(\"{:.3f}\".format(liters))"
      ],
      "execution_count": null,
      "outputs": [
        {
          "output_type": "stream",
          "text": [
            "22\n",
            "67\n",
            "122.833\n"
          ],
          "name": "stdout"
        }
      ]
    },
    {
      "cell_type": "markdown",
      "metadata": {
        "id": "kJ-UTZm8hA6z"
      },
      "source": [
        "Problem #1018"
      ]
    },
    {
      "cell_type": "code",
      "metadata": {
        "id": "qVZtiwTHhDAv",
        "colab": {
          "base_uri": "https://localhost:8080/"
        },
        "outputId": "f933363e-f546-448c-8a05-e0e412cd0efb"
      },
      "source": [
        "# 100,50,20,10,5,2,1 <- Banknotes\n",
        "N = int(input())\n",
        "if 0<N and N<1000000:\n",
        "  if N>=100:\n",
        "    x = N//100\n",
        "    y = N-(x*100)\n",
        "    N = y\n",
        "    print(\"{} nota(s) de R$ 100,00\".format(x))\n",
        "  else:\n",
        "    print(\"0 nota(s) de R$ 100,00\")\n",
        "  if N>=50:\n",
        "    x = N//50\n",
        "    y = N-(x*50)\n",
        "    N = y\n",
        "    print(\"{} nota(s) de R$ 50,00\".format(x))\n",
        "  else:\n",
        "    print(\"0 nota(s) de R$ 50,00\")\n",
        "  if N>=20:\n",
        "    x = N//20\n",
        "    y = N-(x*20)\n",
        "    N = y\n",
        "    print(\"{} nota(s) de R$ 20,00\".format(x))\n",
        "  else:\n",
        "    print(\"0 nota(s) de R$ 20,00\")\n",
        "  if N>=10:\n",
        "    x = N//10\n",
        "    y = N-(x*10)\n",
        "    N = y\n",
        "    print(\"{} nota(s) de R$ 10,00\".format(x))\n",
        "  else:\n",
        "    print(\"0 nota(s) de R$ 10,00\")\n",
        "  if N>=5:\n",
        "    x = N//5\n",
        "    y = N-(x*5)\n",
        "    N = y\n",
        "    print(\"{} nota(s) de R$ 5,00\".format(x))\n",
        "  else:\n",
        "    print(\"0 nota(s) de R$ 5,00\")\n",
        "  if N>=2:\n",
        "    x = N//2\n",
        "    y = N-(x*2)\n",
        "    N = y\n",
        "    print(\"{} nota(s) de R$ 2,00\".format(x))\n",
        "  else:\n",
        "    print(\"0 nota(s) de R$ 2,00\")\n",
        "  if N>=1:\n",
        "    x = N//1\n",
        "    y = N-(x*1)\n",
        "    N = y\n",
        "    print(\"{} nota(s) de R$ 1,00\".format(x))\n",
        "  else:\n",
        "    print(\"0 nota(s) de R$ 1,00\")\n"
      ],
      "execution_count": null,
      "outputs": [
        {
          "output_type": "stream",
          "text": [
            "11257\n",
            "112 nota(s) de R$ 100,00\n",
            "1 nota(s) de R$ 50,00\n",
            "0 nota(s) de R$ 20,00\n",
            "0 nota(s) de R$ 10,00\n",
            "1 nota(s) de R$ 5,00\n",
            "1 nota(s) de R$ 2,00\n",
            "0 nota(s) de R$ 1,00\n"
          ],
          "name": "stdout"
        }
      ]
    },
    {
      "cell_type": "markdown",
      "metadata": {
        "id": "jFFZdgCPVsjE"
      },
      "source": [
        "Problem #1018 V2"
      ]
    },
    {
      "cell_type": "code",
      "metadata": {
        "colab": {
          "base_uri": "https://localhost:8080/"
        },
        "id": "6dL3ofGVTfOS",
        "outputId": "9519a2d5-5183-47e9-8d95-bd3d88163e33"
      },
      "source": [
        "N = int(input())\r\n",
        "bn = [100,50,20,10,5,2,1]\r\n",
        "print(N)\r\n",
        "for i in bn:\r\n",
        "  if N>=i:\r\n",
        "    x = N//i\r\n",
        "    y = N-(x*i)\r\n",
        "    N = y\r\n",
        "    print(\"{} nota(s) de R$ {},00\".format(x,i))\r\n",
        "  else:\r\n",
        "    print(\"0 nota(s) de R$ {},00\".format(i))"
      ],
      "execution_count": null,
      "outputs": [
        {
          "output_type": "stream",
          "text": [
            "576\n",
            "5 nota(s) de R$ 100,00\n",
            "1 nota(s) de R$ 50,00\n",
            "1 nota(s) de R$ 20,00\n",
            "0 nota(s) de R$ 10,00\n",
            "1 nota(s) de R$ 5,00\n",
            "0 nota(s) de R$ 2,00\n",
            "1 nota(s) de R$ 1,00\n"
          ],
          "name": "stdout"
        }
      ]
    },
    {
      "cell_type": "markdown",
      "metadata": {
        "id": "Ebhx1Cjn2KAs"
      },
      "source": [
        "Problem #1019"
      ]
    },
    {
      "cell_type": "code",
      "metadata": {
        "colab": {
          "base_uri": "https://localhost:8080/"
        },
        "id": "mJ90Y9jh2MYp",
        "outputId": "cb978279-8fe7-483d-dd2f-421363e432e4"
      },
      "source": [
        "# seconds to hours and minutes\r\n",
        "# 3600s = 1h\r\n",
        "n = int(input())\r\n",
        "time = [3600,60,1]\r\n",
        "res = [0,0,0]\r\n",
        "for i in range(3):\r\n",
        "  if n>=time[i]:\r\n",
        "    x = n//time[i]\r\n",
        "    n = n-(x*time[i])\r\n",
        "    res[i] = x\r\n",
        "print(\"{}:{}:{}\".format(res[0],res[1],res[2]))\r\n"
      ],
      "execution_count": null,
      "outputs": [
        {
          "output_type": "stream",
          "text": [
            "140153\n",
            "38:55:53\n"
          ],
          "name": "stdout"
        }
      ]
    },
    {
      "cell_type": "markdown",
      "metadata": {
        "id": "fdwbAXRNCT-g"
      },
      "source": [
        "Problem #1020"
      ]
    },
    {
      "cell_type": "code",
      "metadata": {
        "colab": {
          "base_uri": "https://localhost:8080/"
        },
        "id": "neCpBdi8CVbm",
        "outputId": "175ae08d-234e-4f7f-d2e5-9f522fc041f0"
      },
      "source": [
        "# year = 365/month = 30\r\n",
        "d = int(input())\r\n",
        "res = [0,0,0]\r\n",
        "time = [365,30,1]\r\n",
        "for i in range(3):\r\n",
        "  if d>=time[i]:\r\n",
        "    x = d//time[i]\r\n",
        "    d-=x*time[i]\r\n",
        "    res[i] = x\r\n",
        "print(\"{} ano(s)\".format(res[0]))\r\n",
        "print(\"{} mes(es)\".format(res[1]))\r\n",
        "print(\"{} dia(s)\".format(res[2]))"
      ],
      "execution_count": null,
      "outputs": [
        {
          "output_type": "stream",
          "text": [
            "800\n",
            "2 ano(s)\n",
            "2 mes(es)\n",
            "10 dia(s)\n"
          ],
          "name": "stdout"
        }
      ]
    },
    {
      "cell_type": "markdown",
      "metadata": {
        "id": "oEzbaXF_JXqc"
      },
      "source": [
        "Problem #1021"
      ]
    },
    {
      "cell_type": "code",
      "metadata": {
        "id": "aFzXiVcGJZK9",
        "colab": {
          "base_uri": "https://localhost:8080/"
        },
        "outputId": "aaee3f39-49de-4cab-92cd-444b2cee8861"
      },
      "source": [
        "notes = [100,50,20,10,5,2]\r\n",
        "coins = [1,.5,.25,.1,.05,.01]\r\n",
        "n = float(input())\r\n",
        "n += 0.001\r\n",
        "print(\"NOTAS:\")\r\n",
        "for i in notes:\r\n",
        "  x = n//i\r\n",
        "  n %= i\r\n",
        "  print(\"{} nota(s) de R$ {}.00\".format(int(x),i))\r\n",
        "print(\"MOEDAS:\")\r\n",
        "for i in coins:\r\n",
        "  x = n//i\r\n",
        "  n %= i\r\n",
        "  print(\"{} moeda(s) de R$ {:.2f}\".format(int(x),i))"
      ],
      "execution_count": null,
      "outputs": [
        {
          "output_type": "stream",
          "text": [
            "576.73\n",
            "NOTAS:\n",
            "5 nota(s) de R$ 100.00\n",
            "1 nota(s) de R$ 50.00\n",
            "1 nota(s) de R$ 20.00\n",
            "0 nota(s) de R$ 10.00\n",
            "1 nota(s) de R$ 5.00\n",
            "0 nota(s) de R$ 2.00\n",
            "MOEDAS:\n",
            "1 moeda(s) de R$ 1.00\n",
            "1 moeda(s) de R$ 0.50\n",
            "0 moeda(s) de R$ 0.25\n",
            "2 moeda(s) de R$ 0.10\n",
            "0 moeda(s) de R$ 0.05\n",
            "3 moeda(s) de R$ 0.01\n"
          ],
          "name": "stdout"
        }
      ]
    },
    {
      "cell_type": "markdown",
      "metadata": {
        "id": "HIdyLUuO7P-5"
      },
      "source": [
        "Problem #1035"
      ]
    },
    {
      "cell_type": "code",
      "metadata": {
        "colab": {
          "base_uri": "https://localhost:8080/"
        },
        "id": "ONJavWst7b4W",
        "outputId": "b01b154b-5874-4a1e-b9ae-c78badeb9a1d"
      },
      "source": [
        "A,B,C,D = [int(x) for x in input().split()]\r\n",
        "if B > C and D > A and (C+D) > (A+B) and C > 0 and D > 0 and A%2 == 0:\r\n",
        "  print('Valores aceitos')\r\n",
        "else:\r\n",
        "  print('Valores nao aceitos')"
      ],
      "execution_count": null,
      "outputs": [
        {
          "output_type": "stream",
          "text": [
            "2 3 2 6\n",
            "Valores aceitos\n"
          ],
          "name": "stdout"
        }
      ]
    },
    {
      "cell_type": "markdown",
      "metadata": {
        "id": "pxfrSBpm87MD"
      },
      "source": [
        "Problem #1036"
      ]
    },
    {
      "cell_type": "code",
      "metadata": {
        "colab": {
          "base_uri": "https://localhost:8080/"
        },
        "id": "NVPTaIHS89en",
        "outputId": "74aaf1e2-45ea-4f94-f0ab-7d5c262d700b"
      },
      "source": [
        "import math\r\n",
        "A,B,C = [float(i) for i in input().split()]\r\n",
        "delta = pow(B,2)-(4*A*C)\r\n",
        "if delta < 0 or math.sqrt(delta) == B:\r\n",
        "  print('Impossivel calcular')\r\n",
        "else:\r\n",
        "  bhaskara1 = (-B+math.sqrt(delta))/(2*A)\r\n",
        "  bhaskara2 = (-B-math.sqrt(delta))/(2*A)\r\n",
        "  print('R1 = {:.5f}'.format(bhaskara1))\r\n",
        "  print('R2 = {:.5f}'.format(bhaskara2))"
      ],
      "execution_count": null,
      "outputs": [
        {
          "output_type": "stream",
          "text": [
            "10 20.1 5.1\n",
            "R1 = -0.29788\n",
            "R2 = -1.71212\n"
          ],
          "name": "stdout"
        }
      ]
    },
    {
      "cell_type": "markdown",
      "metadata": {
        "id": "Va3rVK-4ATYP"
      },
      "source": [
        "Problem #1037"
      ]
    },
    {
      "cell_type": "code",
      "metadata": {
        "colab": {
          "base_uri": "https://localhost:8080/"
        },
        "id": "1FaKVGc-AZs9",
        "outputId": "9e8d2029-ba02-4f3f-974d-adbc854b4dba"
      },
      "source": [
        "x = float(input())\r\n",
        "intervalo = [-1,25,50,75,100]\r\n",
        "resp = ['Intervalo [0,25]','Intervalo (25,50]','Intervalo (50,75]','Intervalo (75,100]']\r\n",
        "if x < 0 or x > 100:\r\n",
        "  print('Fora de intervalo')\r\n",
        "else:\r\n",
        "  for i in range(4):\r\n",
        "    if x > intervalo[i] and x <= intervalo[i+1]:\r\n",
        "      print(resp[i])"
      ],
      "execution_count": null,
      "outputs": [
        {
          "output_type": "stream",
          "text": [
            "-25.02\n",
            "Fora de intervalo\n"
          ],
          "name": "stdout"
        }
      ]
    },
    {
      "cell_type": "markdown",
      "metadata": {
        "id": "Hy1MB4FVMlv-"
      },
      "source": [
        "Problem #1038"
      ]
    },
    {
      "cell_type": "code",
      "metadata": {
        "id": "FX0PiCPdMnkT",
        "colab": {
          "base_uri": "https://localhost:8080/"
        },
        "outputId": "d5a58390-1bdf-4000-bbfe-d98bd167af74"
      },
      "source": [
        "x,y = [int(i) for i in input().split()]\r\n",
        "cd = [1,2,3,4,5]\r\n",
        "pc = [4,4.5,5,2,1.5]\r\n",
        "for i in range(5):\r\n",
        "  if x == cd[i]:\r\n",
        "    res = y*pc[i]\r\n",
        "print('Total: R$ {:.2f}'.format(res))"
      ],
      "execution_count": null,
      "outputs": [
        {
          "output_type": "stream",
          "text": [
            "2 5\n",
            "Total: R$ 22.50\n"
          ],
          "name": "stdout"
        }
      ]
    },
    {
      "cell_type": "markdown",
      "metadata": {
        "id": "7ji4PdFuP7sH"
      },
      "source": [
        "Problem #1040"
      ]
    },
    {
      "cell_type": "code",
      "metadata": {
        "id": "hc99qmkTP9mD",
        "colab": {
          "base_uri": "https://localhost:8080/"
        },
        "outputId": "152f1cd3-5df1-4431-f799-fa22ebf39785"
      },
      "source": [
        "n1,n2,n3,n4 = [float(i) for i in input().split()]\r\n",
        "med = ((n1*2)+(n2*3)+(n3*4)+(n4*1))/10\r\n",
        "print('Media: {:.1f}'.format(med))\r\n",
        "if med >= 7: print('Aluno aprovado.')\r\n",
        "if med < 5: print('Aluno reprovado.')\r\n",
        "if med >=5 and med <= 6.9:\r\n",
        "  print('Aluno em exame.')\r\n",
        "  n1 = float(input())\r\n",
        "  med1 = (med+n1)/2\r\n",
        "  print('Nota do exame: {:.1f}'.format(n1))\r\n",
        "  if med1 >= 5: print('Aluno aprovado.')\r\n",
        "  if med1 < 5: print('Aluno reprovado.')\r\n",
        "  print('Media final: {:.1f}'.format(med1))"
      ],
      "execution_count": null,
      "outputs": [
        {
          "output_type": "stream",
          "text": [
            "9 4 8.5 9\n",
            "Media: 7.3\n",
            "Aluno aprovado.\n"
          ],
          "name": "stdout"
        }
      ]
    },
    {
      "cell_type": "markdown",
      "metadata": {
        "id": "PiYPUZPSLGf5"
      },
      "source": [
        "Problem #1041"
      ]
    },
    {
      "cell_type": "code",
      "metadata": {
        "id": "uQ3J7v0YLIHK",
        "colab": {
          "base_uri": "https://localhost:8080/"
        },
        "outputId": "6745ea4e-2001-47f8-d69e-fb05c4abffc8"
      },
      "source": [
        "x,y = [float(i) for i in input().split()]\r\n",
        "if x == 0 and y == 0:print('Origem')\r\n",
        "if x > 0 and y > 0:print('Q1')\r\n",
        "if x < 0 and y > 0:print('Q2')\r\n",
        "if x < 0 and y < 0:print('Q3')\r\n",
        "if x > 0 and y < 0:print('Q4')\r\n",
        "if x == 0 and y != 0:print('Eixo Y')\r\n",
        "if x != 0 and y == 0:print('Eixo X')"
      ],
      "execution_count": null,
      "outputs": [
        {
          "output_type": "stream",
          "text": [
            "1 0\n",
            "Eixo X\n"
          ],
          "name": "stdout"
        }
      ]
    },
    {
      "cell_type": "markdown",
      "metadata": {
        "id": "AYq7bGPSYVly"
      },
      "source": [
        "Problem #1042"
      ]
    },
    {
      "cell_type": "code",
      "metadata": {
        "colab": {
          "base_uri": "https://localhost:8080/"
        },
        "id": "KUaLPLQBYXtK",
        "outputId": "6a88f72a-5a88-40f1-e5ae-529a9cb0d952"
      },
      "source": [
        "x=[int(i) for i in input().split()]\r\n",
        "y=[]\r\n",
        "for i in x:y.append(i)\r\n",
        "y.sort()\r\n",
        "for i in y:print(i)\r\n",
        "print()\r\n",
        "for i in x:print(i)"
      ],
      "execution_count": null,
      "outputs": [
        {
          "output_type": "stream",
          "text": [
            "3 2 1\n",
            "1\n",
            "2\n",
            "3\n",
            "\n",
            "3\n",
            "2\n",
            "1\n"
          ],
          "name": "stdout"
        }
      ]
    },
    {
      "cell_type": "markdown",
      "metadata": {
        "id": "9u2FB0x12Rct"
      },
      "source": [
        "Problem #1043"
      ]
    },
    {
      "cell_type": "code",
      "metadata": {
        "colab": {
          "base_uri": "https://localhost:8080/"
        },
        "id": "kqs_kF1V2VnE",
        "outputId": "e4dd8625-ed28-4c3f-e44b-6e5125959609"
      },
      "source": [
        "a,b,c=[float(i) for i in input().split()]\r\n",
        "if a+b>c and a+c>b and c+b>a:print('Perimetro = {:.1f}'.format(a+b+c))\r\n",
        "else:print('Area = {:.1f}'.format(((a+b)*c)/2))"
      ],
      "execution_count": null,
      "outputs": [
        {
          "output_type": "stream",
          "text": [
            "6 4 2\n",
            "Area = 10.0\n"
          ],
          "name": "stdout"
        }
      ]
    },
    {
      "cell_type": "markdown",
      "metadata": {
        "id": "HSAmbRDz5t7m"
      },
      "source": [
        "Problem #1044"
      ]
    },
    {
      "cell_type": "code",
      "metadata": {
        "colab": {
          "base_uri": "https://localhost:8080/"
        },
        "id": "seTOaCJ85yUl",
        "outputId": "b94bf937-8f90-443b-a15c-cc4d6c2f1f41"
      },
      "source": [
        "a,b=[int(i) for i in input().split()]\r\n",
        "if a%b==0 or b%a==0:print('Sao Multiplos')\r\n",
        "else:print('Nao sao Multiplos')"
      ],
      "execution_count": null,
      "outputs": [
        {
          "output_type": "stream",
          "text": [
            "6 25\n",
            "Nao sao Multiplos\n"
          ],
          "name": "stdout"
        }
      ]
    },
    {
      "cell_type": "markdown",
      "metadata": {
        "id": "vd1PBZ6g6Qwx"
      },
      "source": [
        "Problem #1045"
      ]
    },
    {
      "cell_type": "code",
      "metadata": {
        "colab": {
          "base_uri": "https://localhost:8080/"
        },
        "id": "x8QXc1Fk6TQD",
        "outputId": "14cad298-dde9-44d0-c8f2-90958682476c"
      },
      "source": [
        "sides=sorted([float(i) for i in input().split()])\r\n",
        "a=sides[2];b=sides[1];c=sides[0]\r\n",
        "if a>=b+c:print('NAO FORMA TRIANGULO')\r\n",
        "else:\r\n",
        "  if pow(a,2)==pow(b,2)+pow(c,2):print('TRIANGULO RETANGULO')\r\n",
        "  if pow(a,2)>pow(b,2)+pow(c,2):print('TRIANGULO OBTUSANGULO')\r\n",
        "  if pow(a,2)<pow(b,2)+pow(c,2):print('TRIANGULO ACUTANGULO')\r\n",
        "  if a==b==c:print('TRIANGULO EQUILATERO')\r\n",
        "  if a==b!=c or a==c!=b or b==c!=a:print('TRIANGULO ISOSCELES')"
      ],
      "execution_count": null,
      "outputs": [
        {
          "output_type": "stream",
          "text": [
            "6 8 10\n",
            "TRIANGULO RETANGULO\n"
          ],
          "name": "stdout"
        }
      ]
    },
    {
      "cell_type": "markdown",
      "metadata": {
        "id": "LJ9dqyb8EH8F"
      },
      "source": [
        "Problem #1046"
      ]
    },
    {
      "cell_type": "code",
      "metadata": {
        "colab": {
          "base_uri": "https://localhost:8080/"
        },
        "id": "FlbRogj1_EDs",
        "outputId": "28eefbeb-6005-4afb-fc9c-5271fed5421c"
      },
      "source": [
        "i = 1\r\n",
        "print(i)"
      ],
      "execution_count": 1,
      "outputs": [
        {
          "output_type": "stream",
          "text": [
            "1\n"
          ],
          "name": "stdout"
        }
      ]
    }
  ]
}